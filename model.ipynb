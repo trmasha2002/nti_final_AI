{
 "cells": [
  {
   "cell_type": "markdown",
   "metadata": {},
   "source": [
    "Импортируем библиотеки"
   ]
  },
  {
   "cell_type": "code",
   "execution_count": 1,
   "metadata": {},
   "outputs": [],
   "source": [
    "import pandas as pd\n",
    "import numpy as np\n",
    "from catboost import CatBoostClassifier"
   ]
  },
  {
   "cell_type": "markdown",
   "metadata": {},
   "source": [
    "Загружаем данные"
   ]
  },
  {
   "cell_type": "code",
   "execution_count": 2,
   "metadata": {
    "colab": {},
    "colab_type": "code",
    "id": "k456Mi1tPoaC",
    "scrolled": true
   },
   "outputs": [],
   "source": [
    "transactions_train = pd.read_csv('transactions_train.csv')\n",
    "train_target = pd.read_csv('train_target.csv')\n",
    "transactions_test = pd.read_csv('transactions_test.csv')\n",
    "test_id = pd.read_csv('test.csv')\n",
    "categories = pd.read_excel('small_group_description.xlsx')[['name', 'code']]"
   ]
  },
  {
   "cell_type": "markdown",
   "metadata": {},
   "source": [
    "transactions_train и transactions_test хранят информацию о транзакциях в формате клиент-дата-стоимость-категория\n",
    "\n",
    "train_target - это информация про каждого клиента о том была ли совершена в этих категориях покупка на следующей неделе\n",
    "\n",
    "test_id - это клиенты для которых надо предсказать совершат ли они покупку в тех категориях на следующей неделе\n",
    "\n",
    "categories - это описание категорий"
   ]
  },
  {
   "cell_type": "code",
   "execution_count": 3,
   "metadata": {},
   "outputs": [
    {
     "data": {
      "text/html": [
       "<div>\n",
       "<style scoped>\n",
       "    .dataframe tbody tr th:only-of-type {\n",
       "        vertical-align: middle;\n",
       "    }\n",
       "\n",
       "    .dataframe tbody tr th {\n",
       "        vertical-align: top;\n",
       "    }\n",
       "\n",
       "    .dataframe thead th {\n",
       "        text-align: right;\n",
       "    }\n",
       "</style>\n",
       "<table border=\"1\" class=\"dataframe\">\n",
       "  <thead>\n",
       "    <tr style=\"text-align: right;\">\n",
       "      <th></th>\n",
       "      <th>client_dk</th>\n",
       "      <th>trans_date</th>\n",
       "      <th>amount</th>\n",
       "      <th>small_group</th>\n",
       "    </tr>\n",
       "  </thead>\n",
       "  <tbody>\n",
       "    <tr>\n",
       "      <th>0</th>\n",
       "      <td>43976</td>\n",
       "      <td>0</td>\n",
       "      <td>4.563</td>\n",
       "      <td>2</td>\n",
       "    </tr>\n",
       "    <tr>\n",
       "      <th>1</th>\n",
       "      <td>8417</td>\n",
       "      <td>0</td>\n",
       "      <td>48.342</td>\n",
       "      <td>0</td>\n",
       "    </tr>\n",
       "    <tr>\n",
       "      <th>2</th>\n",
       "      <td>17309</td>\n",
       "      <td>0</td>\n",
       "      <td>12.320</td>\n",
       "      <td>0</td>\n",
       "    </tr>\n",
       "    <tr>\n",
       "      <th>3</th>\n",
       "      <td>33523</td>\n",
       "      <td>0</td>\n",
       "      <td>29.005</td>\n",
       "      <td>6</td>\n",
       "    </tr>\n",
       "    <tr>\n",
       "      <th>4</th>\n",
       "      <td>24228</td>\n",
       "      <td>0</td>\n",
       "      <td>10.266</td>\n",
       "      <td>6</td>\n",
       "    </tr>\n",
       "  </tbody>\n",
       "</table>\n",
       "</div>"
      ],
      "text/plain": [
       "   client_dk  trans_date  amount  small_group\n",
       "0      43976           0   4.563            2\n",
       "1       8417           0  48.342            0\n",
       "2      17309           0  12.320            0\n",
       "3      33523           0  29.005            6\n",
       "4      24228           0  10.266            6"
      ]
     },
     "execution_count": 3,
     "metadata": {},
     "output_type": "execute_result"
    }
   ],
   "source": [
    "transactions_train.head()"
   ]
  },
  {
   "cell_type": "code",
   "execution_count": 4,
   "metadata": {},
   "outputs": [
    {
     "data": {
      "text/html": [
       "<div>\n",
       "<style scoped>\n",
       "    .dataframe tbody tr th:only-of-type {\n",
       "        vertical-align: middle;\n",
       "    }\n",
       "\n",
       "    .dataframe tbody tr th {\n",
       "        vertical-align: top;\n",
       "    }\n",
       "\n",
       "    .dataframe thead th {\n",
       "        text-align: right;\n",
       "    }\n",
       "</style>\n",
       "<table border=\"1\" class=\"dataframe\">\n",
       "  <thead>\n",
       "    <tr style=\"text-align: right;\">\n",
       "      <th></th>\n",
       "      <th>client_dk</th>\n",
       "      <th>27</th>\n",
       "      <th>32</th>\n",
       "      <th>41</th>\n",
       "      <th>45</th>\n",
       "      <th>67</th>\n",
       "      <th>73</th>\n",
       "      <th>81</th>\n",
       "      <th>88</th>\n",
       "    </tr>\n",
       "  </thead>\n",
       "  <tbody>\n",
       "    <tr>\n",
       "      <th>0</th>\n",
       "      <td>39762</td>\n",
       "      <td>1</td>\n",
       "      <td>0</td>\n",
       "      <td>0</td>\n",
       "      <td>0</td>\n",
       "      <td>0</td>\n",
       "      <td>0</td>\n",
       "      <td>0</td>\n",
       "      <td>0</td>\n",
       "    </tr>\n",
       "    <tr>\n",
       "      <th>1</th>\n",
       "      <td>10586</td>\n",
       "      <td>0</td>\n",
       "      <td>0</td>\n",
       "      <td>0</td>\n",
       "      <td>1</td>\n",
       "      <td>0</td>\n",
       "      <td>0</td>\n",
       "      <td>0</td>\n",
       "      <td>0</td>\n",
       "    </tr>\n",
       "    <tr>\n",
       "      <th>2</th>\n",
       "      <td>40115</td>\n",
       "      <td>0</td>\n",
       "      <td>1</td>\n",
       "      <td>0</td>\n",
       "      <td>0</td>\n",
       "      <td>0</td>\n",
       "      <td>0</td>\n",
       "      <td>0</td>\n",
       "      <td>0</td>\n",
       "    </tr>\n",
       "    <tr>\n",
       "      <th>3</th>\n",
       "      <td>34543</td>\n",
       "      <td>0</td>\n",
       "      <td>0</td>\n",
       "      <td>0</td>\n",
       "      <td>1</td>\n",
       "      <td>0</td>\n",
       "      <td>0</td>\n",
       "      <td>0</td>\n",
       "      <td>0</td>\n",
       "    </tr>\n",
       "    <tr>\n",
       "      <th>4</th>\n",
       "      <td>5372</td>\n",
       "      <td>0</td>\n",
       "      <td>0</td>\n",
       "      <td>0</td>\n",
       "      <td>1</td>\n",
       "      <td>0</td>\n",
       "      <td>0</td>\n",
       "      <td>0</td>\n",
       "      <td>0</td>\n",
       "    </tr>\n",
       "  </tbody>\n",
       "</table>\n",
       "</div>"
      ],
      "text/plain": [
       "   client_dk  27  32  41  45  67  73  81  88\n",
       "0      39762   1   0   0   0   0   0   0   0\n",
       "1      10586   0   0   0   1   0   0   0   0\n",
       "2      40115   0   1   0   0   0   0   0   0\n",
       "3      34543   0   0   0   1   0   0   0   0\n",
       "4       5372   0   0   0   1   0   0   0   0"
      ]
     },
     "execution_count": 4,
     "metadata": {},
     "output_type": "execute_result"
    }
   ],
   "source": [
    "train_target.head()"
   ]
  },
  {
   "cell_type": "code",
   "execution_count": 5,
   "metadata": {},
   "outputs": [
    {
     "data": {
      "text/html": [
       "<div>\n",
       "<style scoped>\n",
       "    .dataframe tbody tr th:only-of-type {\n",
       "        vertical-align: middle;\n",
       "    }\n",
       "\n",
       "    .dataframe tbody tr th {\n",
       "        vertical-align: top;\n",
       "    }\n",
       "\n",
       "    .dataframe thead th {\n",
       "        text-align: right;\n",
       "    }\n",
       "</style>\n",
       "<table border=\"1\" class=\"dataframe\">\n",
       "  <thead>\n",
       "    <tr style=\"text-align: right;\">\n",
       "      <th></th>\n",
       "      <th>client_dk</th>\n",
       "      <th>trans_date</th>\n",
       "      <th>amount</th>\n",
       "      <th>small_group</th>\n",
       "    </tr>\n",
       "  </thead>\n",
       "  <tbody>\n",
       "    <tr>\n",
       "      <th>0</th>\n",
       "      <td>31453</td>\n",
       "      <td>0</td>\n",
       "      <td>20.533</td>\n",
       "      <td>0</td>\n",
       "    </tr>\n",
       "    <tr>\n",
       "      <th>1</th>\n",
       "      <td>3615</td>\n",
       "      <td>0</td>\n",
       "      <td>7.700</td>\n",
       "      <td>0</td>\n",
       "    </tr>\n",
       "    <tr>\n",
       "      <th>2</th>\n",
       "      <td>19950</td>\n",
       "      <td>0</td>\n",
       "      <td>13.441</td>\n",
       "      <td>1</td>\n",
       "    </tr>\n",
       "    <tr>\n",
       "      <th>3</th>\n",
       "      <td>7311</td>\n",
       "      <td>0</td>\n",
       "      <td>8.675</td>\n",
       "      <td>7</td>\n",
       "    </tr>\n",
       "    <tr>\n",
       "      <th>4</th>\n",
       "      <td>36112</td>\n",
       "      <td>0</td>\n",
       "      <td>23.459</td>\n",
       "      <td>2</td>\n",
       "    </tr>\n",
       "  </tbody>\n",
       "</table>\n",
       "</div>"
      ],
      "text/plain": [
       "   client_dk  trans_date  amount  small_group\n",
       "0      31453           0  20.533            0\n",
       "1       3615           0   7.700            0\n",
       "2      19950           0  13.441            1\n",
       "3       7311           0   8.675            7\n",
       "4      36112           0  23.459            2"
      ]
     },
     "execution_count": 5,
     "metadata": {},
     "output_type": "execute_result"
    }
   ],
   "source": [
    "transactions_test.head()"
   ]
  },
  {
   "cell_type": "code",
   "execution_count": 6,
   "metadata": {},
   "outputs": [
    {
     "data": {
      "text/html": [
       "<div>\n",
       "<style scoped>\n",
       "    .dataframe tbody tr th:only-of-type {\n",
       "        vertical-align: middle;\n",
       "    }\n",
       "\n",
       "    .dataframe tbody tr th {\n",
       "        vertical-align: top;\n",
       "    }\n",
       "\n",
       "    .dataframe thead th {\n",
       "        text-align: right;\n",
       "    }\n",
       "</style>\n",
       "<table border=\"1\" class=\"dataframe\">\n",
       "  <thead>\n",
       "    <tr style=\"text-align: right;\">\n",
       "      <th></th>\n",
       "      <th>client_dk</th>\n",
       "    </tr>\n",
       "  </thead>\n",
       "  <tbody>\n",
       "    <tr>\n",
       "      <th>0</th>\n",
       "      <td>12671</td>\n",
       "    </tr>\n",
       "    <tr>\n",
       "      <th>1</th>\n",
       "      <td>14015</td>\n",
       "    </tr>\n",
       "    <tr>\n",
       "      <th>2</th>\n",
       "      <td>1500</td>\n",
       "    </tr>\n",
       "    <tr>\n",
       "      <th>3</th>\n",
       "      <td>4934</td>\n",
       "    </tr>\n",
       "    <tr>\n",
       "      <th>4</th>\n",
       "      <td>11405</td>\n",
       "    </tr>\n",
       "  </tbody>\n",
       "</table>\n",
       "</div>"
      ],
      "text/plain": [
       "   client_dk\n",
       "0      12671\n",
       "1      14015\n",
       "2       1500\n",
       "3       4934\n",
       "4      11405"
      ]
     },
     "execution_count": 6,
     "metadata": {},
     "output_type": "execute_result"
    }
   ],
   "source": [
    "test_id.head()"
   ]
  },
  {
   "cell_type": "code",
   "execution_count": 7,
   "metadata": {},
   "outputs": [
    {
     "data": {
      "text/html": [
       "<div>\n",
       "<style scoped>\n",
       "    .dataframe tbody tr th:only-of-type {\n",
       "        vertical-align: middle;\n",
       "    }\n",
       "\n",
       "    .dataframe tbody tr th {\n",
       "        vertical-align: top;\n",
       "    }\n",
       "\n",
       "    .dataframe thead th {\n",
       "        text-align: right;\n",
       "    }\n",
       "</style>\n",
       "<table border=\"1\" class=\"dataframe\">\n",
       "  <thead>\n",
       "    <tr style=\"text-align: right;\">\n",
       "      <th></th>\n",
       "      <th>name</th>\n",
       "      <th>code</th>\n",
       "    </tr>\n",
       "  </thead>\n",
       "  <tbody>\n",
       "    <tr>\n",
       "      <th>0</th>\n",
       "      <td>Оплата телефона и связи</td>\n",
       "      <td>0</td>\n",
       "    </tr>\n",
       "    <tr>\n",
       "      <th>1</th>\n",
       "      <td>Каршеринг или аренда автотранспорта</td>\n",
       "      <td>1</td>\n",
       "    </tr>\n",
       "    <tr>\n",
       "      <th>2</th>\n",
       "      <td>Такси и каршеринги</td>\n",
       "      <td>2</td>\n",
       "    </tr>\n",
       "    <tr>\n",
       "      <th>3</th>\n",
       "      <td>Несетевые супермаркеты и продуктовые магазины</td>\n",
       "      <td>3</td>\n",
       "    </tr>\n",
       "    <tr>\n",
       "      <th>4</th>\n",
       "      <td>Метро (паромы и Ж\\Д аналоги)</td>\n",
       "      <td>4</td>\n",
       "    </tr>\n",
       "  </tbody>\n",
       "</table>\n",
       "</div>"
      ],
      "text/plain": [
       "                                            name  code\n",
       "0                        Оплата телефона и связи     0\n",
       "1            Каршеринг или аренда автотранспорта     1\n",
       "2                             Такси и каршеринги     2\n",
       "3  Несетевые супермаркеты и продуктовые магазины     3\n",
       "4                   Метро (паромы и Ж\\Д аналоги)     4"
      ]
     },
     "execution_count": 7,
     "metadata": {},
     "output_type": "execute_result"
    }
   ],
   "source": [
    "categories.head()"
   ]
  },
  {
   "cell_type": "markdown",
   "metadata": {},
   "source": [
    "Функции для выделения фичей по сумме покупок и количеству покупок в каждой категории за определенный период"
   ]
  },
  {
   "cell_type": "code",
   "execution_count": 8,
   "metadata": {},
   "outputs": [],
   "source": [
    "def get_amount_features(transactions, prefix):\n",
    "    amount_cat = transactions.groupby(['client_dk','small_group']).sum()['amount']\n",
    "    amount_cat = amount_cat.reset_index().pivot(index='client_dk', \\\n",
    "                                                      columns='small_group',values='amount').fillna(0)\n",
    "    amount_cat.columns = [prefix + str(i) for i in amount_cat.columns]\n",
    "    return amount_cat"
   ]
  },
  {
   "cell_type": "code",
   "execution_count": 9,
   "metadata": {},
   "outputs": [],
   "source": [
    "def get_count_features(transactions, prefix):\n",
    "    counter_df = transactions.groupby(['client_dk','small_group'])['amount'].count()\n",
    "    cat_counts = counter_df.reset_index().pivot(index='client_dk', \\\n",
    "                                                      columns='small_group',values='amount').fillna(0)\n",
    "    cat_counts.columns = [prefix + str(i) for i in cat_counts.columns]\n",
    "    return cat_counts"
   ]
  },
  {
   "cell_type": "markdown",
   "metadata": {},
   "source": [
    "Функция выделяет фичи по сумме покупок и количеству покупок в каждой категории для:\n",
    "\n",
    "1) Всех транзакций\n",
    "\n",
    "2) Нормированных транзакций(суммой больше 100 и меньше 1500), чтобы избежать выбросов\n",
    "\n",
    "3) Транзакций за последнюю неделю\n",
    "\n",
    "4) Транзакций за последние 3 дня\n",
    "\n",
    "5) Транзакций за последние две недели\n",
    "\n",
    "6) Транзакций за последний месяц\n",
    "\n",
    "7) Транзакций за спортивный пик(то есть время когда было больше всего транзакций для спортивных матчей(см. analytics.ipynb))\n",
    "\n",
    "8) Транзакций за цветочный пик(то есть время когда было больше всего транзакций для цветов(см. analytics.ipynb))\n",
    "\n",
    "9) Транзакций за неделю годом ранее(возможно у людей ежегодная традиция или какой-то праздник)"
   ]
  },
  {
   "cell_type": "code",
   "execution_count": 10,
   "metadata": {},
   "outputs": [],
   "source": [
    "def get_features(transactions, target):\n",
    "    agg_features = transactions.groupby('client_dk')['amount'].agg(['mean','max','min','std','sum','count']).reset_index()\n",
    "    \n",
    "    count_cat = get_count_features(transactions, 'cat_count_')\n",
    "    amount_cat = get_amount_features(transactions, 'cat_spend_')\n",
    "    \n",
    "    count_cat_norm = get_count_features(transactions[(transactions.amount >= 100) & (transactions.amount <= 1500)], 'cat_count_norm_')\n",
    "    amount_cat_norm = get_amount_features(transactions[(transactions.amount >= 100) & (transactions.amount <= 1500)], 'cat_spend_norm_')\n",
    "    \n",
    "    amount_cat_last_week = get_amount_features(transactions[transactions.trans_date > 380], 'cat_spend_last_week_')\n",
    "    count_cat_last_week = get_count_features(transactions[transactions.trans_date > 380], 'cat_count_last_week_')  \n",
    "    \n",
    "    amount_cat_last_3days = get_amount_features(transactions[transactions.trans_date > 384], 'cat_spend_last_3days_')\n",
    "    count_cat_last_3days = get_count_features(transactions[transactions.trans_date > 384], 'cat_count_last_3days_')  \n",
    "    \n",
    "    amount_cat_last_2weeks = get_amount_features(transactions[transactions.trans_date > 373], 'cat_spend_last_2weeks_')\n",
    "    count_cat_last_2weeks = get_count_features(transactions[transactions.trans_date > 373], 'cat_count_last_2weeks_')   \n",
    "    \n",
    "    amount_cat_last_month = get_amount_features(transactions[transactions.trans_date > 357], 'cat_spend_last_month_')\n",
    "    count_cat_last_month = get_count_features(transactions[transactions.trans_date > 357], 'cat_count_last_month_')    \n",
    "    \n",
    "    amount_cat_sport_peak = get_amount_features(transactions[(transactions.trans_date >= 283) & (transactions.trans_date <= 300)], 'cat_spend_sport_peak_')\n",
    "    count_cat_sport_peak = get_count_features(transactions[(transactions.trans_date >= 283) & (transactions.trans_date <= 300)], 'cat_count_sport_peak_')    \n",
    "    \n",
    "    amount_cat_flower_peak = get_amount_features(transactions[(transactions.trans_date >= 126) & (transactions.trans_date <= 127)], 'cat_spend_flower_peak_')\n",
    "    count_cat_flower_peak = get_count_features(transactions[(transactions.trans_date >= 126) & (transactions.trans_date <= 127)], 'cat_count_flower_peak_')    \n",
    "    \n",
    "    amount_cat_week_year_ago = get_amount_features(transactions[(transactions.trans_date >= 333) & (transactions.trans_date <= 339)], 'cat_spend_week_year_ago_')\n",
    "    count_cat_week_year_ago = get_count_features(transactions[(transactions.trans_date >= 333) & (transactions.trans_date <= 339)], 'cat_count_week_year_ago_')   \n",
    "    \n",
    "    out = pd.merge(target, agg_features, on='client_dk', how='outer')\n",
    "    out = pd.merge(out, count_cat.reset_index(), on='client_dk', how='outer')\n",
    "    out = pd.merge(out, amount_cat.reset_index(), on='client_dk', how='outer')\n",
    "    out = pd.merge(out, count_cat_last_week.reset_index(), on='client_dk', how='outer')\n",
    "    out = pd.merge(out, amount_cat_last_week.reset_index(), on='client_dk', how='outer')\n",
    "    out = pd.merge(out, count_cat_last_3days.reset_index(), on='client_dk', how='outer')\n",
    "    out = pd.merge(out, amount_cat_last_3days.reset_index(), on='client_dk', how='outer')\n",
    "    out = pd.merge(out, count_cat_last_2weeks.reset_index(), on='client_dk', how='outer')\n",
    "    out = pd.merge(out, amount_cat_last_2weeks.reset_index(), on='client_dk', how='outer')\n",
    "    out = pd.merge(out, count_cat_last_month.reset_index(), on='client_dk', how='outer')\n",
    "    out = pd.merge(out, amount_cat_last_month.reset_index(), on='client_dk', how='outer')\n",
    "    out = pd.merge(out, count_cat_sport_peak.reset_index(), on='client_dk', how='outer')\n",
    "    out = pd.merge(out, amount_cat_sport_peak.reset_index(), on='client_dk', how='outer')\n",
    "    out = pd.merge(out, count_cat_flower_peak.reset_index(), on='client_dk', how='outer')\n",
    "    out = pd.merge(out, amount_cat_flower_peak.reset_index(), on='client_dk', how='outer')\n",
    "    out = pd.merge(out, count_cat_week_year_ago.reset_index(), on='client_dk', how='outer')\n",
    "    out = pd.merge(out, amount_cat_week_year_ago.reset_index(), on='client_dk', how='outer')\n",
    "    \n",
    "    return out"
   ]
  },
  {
   "cell_type": "markdown",
   "metadata": {},
   "source": [
    "Генерируем фичи для тренировочного и тестового датасета"
   ]
  },
  {
   "cell_type": "code",
   "execution_count": 11,
   "metadata": {
    "colab": {},
    "colab_type": "code",
    "id": "NXxlvrTZPoap"
   },
   "outputs": [],
   "source": [
    "train = get_features(transactions_train, train_target)"
   ]
  },
  {
   "cell_type": "code",
   "execution_count": 12,
   "metadata": {},
   "outputs": [],
   "source": [
    "test = get_features(transactions_test, test_id[['client_dk']])"
   ]
  },
  {
   "cell_type": "markdown",
   "metadata": {},
   "source": [
    "Находим общие фичи, так как возможно некоторые сгенерировались только в тренировочном или только в тестовом\n",
    "\n",
    "и затем убираем все категории с номером большим 99, так как частота покупок там слишком редкая и значит нерепрезентативная"
   ]
  },
  {
   "cell_type": "code",
   "execution_count": 13,
   "metadata": {},
   "outputs": [],
   "source": [
    "common_features = list(set(test.columns).intersection(set(train.columns)))\n",
    "cf = []\n",
    "for i in common_features:\n",
    "    if \"cat\" in i:\n",
    "        if int(i.split(\"_\")[-1]) < 100:\n",
    "            cf.append(i)\n",
    "    else:\n",
    "        cf.append(i)\n",
    "common_features = cf"
   ]
  },
  {
   "cell_type": "markdown",
   "metadata": {},
   "source": [
    "Создаём тестовый и тренировочный датасет только с нужными фичами"
   ]
  },
  {
   "cell_type": "code",
   "execution_count": 14,
   "metadata": {
    "colab": {},
    "colab_type": "code",
    "id": "9XojgfYmPoa7"
   },
   "outputs": [],
   "source": [
    "X_train = train[common_features]\n",
    "X_test = test[common_features]"
   ]
  },
  {
   "cell_type": "markdown",
   "metadata": {},
   "source": [
    "Устанавливаем параметры для CatBoostClassifier, подобранные тестовым путём"
   ]
  },
  {
   "cell_type": "code",
   "execution_count": 15,
   "metadata": {},
   "outputs": [],
   "source": [
    "params = {\n",
    "    'n_estimators': 1000,\n",
    "    'depth': 6,\n",
    "    'random_state':42,\n",
    "    'learning_rate': 0.027,\n",
    "    'eval_metric': 'AUC',\n",
    "    'loss_function': 'MultiClass',\n",
    "    'verbose': 1000, \n",
    "    \n",
    "}"
   ]
  },
  {
   "cell_type": "markdown",
   "metadata": {},
   "source": [
    "Создаём 8 моделей для каждой категории, которые предсказывают от 0 до 1, будет ли покупка в данной категории"
   ]
  },
  {
   "cell_type": "code",
   "execution_count": 16,
   "metadata": {
    "colab": {},
    "colab_type": "code",
    "id": "ydHIGxOFPoa9",
    "scrolled": false
   },
   "outputs": [
    {
     "name": "stdout",
     "output_type": "stream",
     "text": [
      "Training model for category 27\n",
      "0:\ttotal: 362ms\tremaining: 6m 1s\n",
      "999:\ttotal: 5m 28s\tremaining: 0us\n",
      "Training model for category 32\n",
      "0:\ttotal: 359ms\tremaining: 5m 58s\n",
      "999:\ttotal: 5m 12s\tremaining: 0us\n",
      "Training model for category 41\n",
      "0:\ttotal: 422ms\tremaining: 7m 1s\n",
      "999:\ttotal: 5m 27s\tremaining: 0us\n",
      "Training model for category 45\n",
      "0:\ttotal: 357ms\tremaining: 5m 57s\n",
      "999:\ttotal: 5m 49s\tremaining: 0us\n",
      "Training model for category 67\n",
      "0:\ttotal: 318ms\tremaining: 5m 17s\n",
      "999:\ttotal: 5m 18s\tremaining: 0us\n",
      "Training model for category 73\n",
      "0:\ttotal: 327ms\tremaining: 5m 26s\n",
      "999:\ttotal: 5m 18s\tremaining: 0us\n",
      "Training model for category 81\n",
      "0:\ttotal: 314ms\tremaining: 5m 13s\n",
      "999:\ttotal: 4m 57s\tremaining: 0us\n",
      "Training model for category 88\n",
      "0:\ttotal: 311ms\tremaining: 5m 10s\n",
      "999:\ttotal: 4m 59s\tremaining: 0us\n"
     ]
    }
   ],
   "source": [
    "results_tree = {}\n",
    "main_result = [] \n",
    "for q in train_target.columns[1:]:\n",
    "    print('Training model for category ' + str(q))\n",
    "    curr_target_train = train_target.loc[:,q]\n",
    "    model = CatBoostClassifier(**params)\n",
    "    model.fit(X_train.fillna(0).values, curr_target_train.values)\n",
    "    main_result.append(model.get_evals_result())\n",
    "    pred = model.predict_proba(X_test.fillna(0).values)[:,1]\n",
    "    results_tree[q] = pred"
   ]
  },
  {
   "cell_type": "markdown",
   "metadata": {
    "colab_type": "text",
    "id": "khm5b0kAPoa-"
   },
   "source": [
    "### Подготовим файл для отправки в систему"
   ]
  },
  {
   "cell_type": "code",
   "execution_count": 17,
   "metadata": {
    "colab": {},
    "colab_type": "code",
    "id": "Hun-NrfzPoa-"
   },
   "outputs": [],
   "source": [
    "submission = pd.DataFrame(data=np.zeros((25000,8)), columns=train_target.columns[1:], index=test_id['client_dk'].values)"
   ]
  },
  {
   "cell_type": "code",
   "execution_count": 18,
   "metadata": {
    "colab": {},
    "colab_type": "code",
    "id": "W4bVC2NOPoa_"
   },
   "outputs": [],
   "source": [
    "for q in results_tree:\n",
    "    submission[q] = results_tree[q]\n",
    "submission.columns = ['cat_27','cat_32','cat_41','cat_45','cat_67','cat_73','cat_81','cat_88']"
   ]
  },
  {
   "cell_type": "code",
   "execution_count": 19,
   "metadata": {
    "colab": {},
    "colab_type": "code",
    "id": "GWS7f9xXPobB"
   },
   "outputs": [],
   "source": [
    "submission.index.name = 'client_dk'"
   ]
  },
  {
   "cell_type": "markdown",
   "metadata": {
    "colab_type": "text",
    "id": "oEwii6RGPobC"
   },
   "source": [
    "Сохраняем прогноз на диск в папку submissions. Имя прогноза соответсвует дате и времени его создания, закодированными с помощью timestamp."
   ]
  },
  {
   "cell_type": "code",
   "execution_count": 20,
   "metadata": {
    "colab": {},
    "colab_type": "code",
    "id": "vTBoZUHBPobC"
   },
   "outputs": [],
   "source": [
    "import time\n",
    "import os\n",
    "\n",
    "current_timestamp = int(time.time())\n",
    "submission_path = 'submissions/{}.csv'.format(current_timestamp)\n",
    "\n",
    "if not os.path.exists('submissions'):\n",
    "    os.makedirs('submissions')\n",
    "\n",
    "submission.to_csv(submission_path, index=True)"
   ]
  }
 ],
 "metadata": {
  "colab": {
   "collapsed_sections": [],
   "name": "baseline_final.ipynb",
   "provenance": []
  },
  "kernelspec": {
   "display_name": "Python 3",
   "language": "python",
   "name": "python3"
  },
  "language_info": {
   "codemirror_mode": {
    "name": "ipython",
    "version": 3
   },
   "file_extension": ".py",
   "mimetype": "text/x-python",
   "name": "python",
   "nbconvert_exporter": "python",
   "pygments_lexer": "ipython3",
   "version": "3.6.5"
  }
 },
 "nbformat": 4,
 "nbformat_minor": 1
}
