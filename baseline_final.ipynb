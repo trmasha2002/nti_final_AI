{
 "cells": [
  {
   "cell_type": "markdown",
   "metadata": {
    "colab_type": "text",
    "id": "GdYMzXkKPoZ2"
   },
   "source": [
    "Импортируем нужные библиотеки."
   ]
  },
  {
   "cell_type": "code",
   "execution_count": 1,
   "metadata": {
    "colab": {},
    "colab_type": "code",
    "id": "B1Exn-ryPoZ5"
   },
   "outputs": [],
   "source": [
    "import pandas as pd\n",
    "from catboost import CatBoostClassifier\n",
    "from sklearn.metrics import roc_auc_score\n",
    "from sklearn.tree import DecisionTreeClassifier\n",
    "import numpy as np\n",
    "import datetime as dt"
   ]
  },
  {
   "cell_type": "code",
   "execution_count": 2,
   "metadata": {},
   "outputs": [
    {
     "name": "stdout",
     "output_type": "stream",
     "text": [
      "Requirement already up-to-date: catboost in c:\\programdata\\anaconda3\\lib\\site-packages (0.22)\n",
      "Requirement already satisfied, skipping upgrade: plotly in c:\\programdata\\anaconda3\\lib\\site-packages (from catboost) (4.5.2)\n",
      "Requirement already satisfied, skipping upgrade: graphviz in c:\\programdata\\anaconda3\\lib\\site-packages (from catboost) (0.13.2)\n",
      "Requirement already satisfied, skipping upgrade: pandas>=0.24.0 in c:\\programdata\\anaconda3\\lib\\site-packages (from catboost) (0.25.1)\n",
      "Requirement already satisfied, skipping upgrade: numpy>=1.16.0 in c:\\programdata\\anaconda3\\lib\\site-packages (from catboost) (1.16.5)\n",
      "Requirement already satisfied, skipping upgrade: six in c:\\programdata\\anaconda3\\lib\\site-packages (from catboost) (1.12.0)\n",
      "Requirement already satisfied, skipping upgrade: scipy in c:\\users\\user 1\\appdata\\roaming\\python\\python37\\site-packages (from catboost) (1.4.1)\n",
      "Requirement already satisfied, skipping upgrade: matplotlib in c:\\programdata\\anaconda3\\lib\\site-packages (from catboost) (3.1.1)\n",
      "Requirement already satisfied, skipping upgrade: retrying>=1.3.3 in c:\\programdata\\anaconda3\\lib\\site-packages (from plotly->catboost) (1.3.3)\n",
      "Requirement already satisfied, skipping upgrade: python-dateutil>=2.6.1 in c:\\programdata\\anaconda3\\lib\\site-packages (from pandas>=0.24.0->catboost) (2.8.0)\n",
      "Requirement already satisfied, skipping upgrade: pytz>=2017.2 in c:\\programdata\\anaconda3\\lib\\site-packages (from pandas>=0.24.0->catboost) (2019.3)\n",
      "Requirement already satisfied, skipping upgrade: cycler>=0.10 in c:\\programdata\\anaconda3\\lib\\site-packages (from matplotlib->catboost) (0.10.0)\n",
      "Requirement already satisfied, skipping upgrade: kiwisolver>=1.0.1 in c:\\programdata\\anaconda3\\lib\\site-packages (from matplotlib->catboost) (1.1.0)\n",
      "Requirement already satisfied, skipping upgrade: pyparsing!=2.0.4,!=2.1.2,!=2.1.6,>=2.0.1 in c:\\programdata\\anaconda3\\lib\\site-packages (from matplotlib->catboost) (2.4.2)\n",
      "Requirement already satisfied, skipping upgrade: setuptools in c:\\programdata\\anaconda3\\lib\\site-packages (from kiwisolver>=1.0.1->matplotlib->catboost) (41.4.0)\n"
     ]
    }
   ],
   "source": [
    "!pip install --user --upgrade catboost"
   ]
  },
  {
   "cell_type": "markdown",
   "metadata": {
    "colab_type": "text",
    "id": "-oBs3DlzPoZ_"
   },
   "source": [
    "Распакуйте архив с данными в папку,где находится этот jupyter notebook (baseline.ipynb). У вас будет папка data,  содержащая необходимые файлы. \n",
    "\n",
    "Ваша задача предсказать вероятность совершения покупки Клиентом в определенных 8 категориях в следующие 7 дней, чтобы под них Банк смог направить релевантный контент (подборки). Для подготовки предсказания у вас есть данные по транзакциям 50 000 Клиентов в течение года, из которых 25 000 – в обучающей выборке и 25 000 – в тестовой. Ваша задача для тестовой выборки рассчитать для каждой из целевой категории вероятность совершения покупки в ней на следующей неделе.\n",
    "\n",
    "Данные по транзакциям находятся в файле **transactions_train.csv**. Информация о покупках по категориям для исследуемой недели находится в файле **train_target.csv**."
   ]
  },
  {
   "cell_type": "markdown",
   "metadata": {
    "colab_type": "text",
    "id": "rGqNGGpDPoaB"
   },
   "source": [
    "Считаем данные по транзакциям и правильные ответы."
   ]
  },
  {
   "cell_type": "code",
   "execution_count": 3,
   "metadata": {
    "colab": {},
    "colab_type": "code",
    "id": "k456Mi1tPoaC"
   },
   "outputs": [],
   "source": [
    "transactions_train=pd.read_csv('transactions_train.csv')"
   ]
  },
  {
   "cell_type": "code",
   "execution_count": 4,
   "metadata": {
    "colab": {},
    "colab_type": "code",
    "id": "4QfE1c8XPoaG"
   },
   "outputs": [],
   "source": [
    "train_target=pd.read_csv('train_target.csv')"
   ]
  },
  {
   "cell_type": "markdown",
   "metadata": {
    "colab_type": "text",
    "id": "ch5zsIDvPoaK"
   },
   "source": [
    "Посмотрим на данные."
   ]
  },
  {
   "cell_type": "code",
   "execution_count": 5,
   "metadata": {
    "colab": {},
    "colab_type": "code",
    "id": "FeWwEqLfPoaL"
   },
   "outputs": [
    {
     "data": {
      "text/html": [
       "<div>\n",
       "<style scoped>\n",
       "    .dataframe tbody tr th:only-of-type {\n",
       "        vertical-align: middle;\n",
       "    }\n",
       "\n",
       "    .dataframe tbody tr th {\n",
       "        vertical-align: top;\n",
       "    }\n",
       "\n",
       "    .dataframe thead th {\n",
       "        text-align: right;\n",
       "    }\n",
       "</style>\n",
       "<table border=\"1\" class=\"dataframe\">\n",
       "  <thead>\n",
       "    <tr style=\"text-align: right;\">\n",
       "      <th></th>\n",
       "      <th>client_dk</th>\n",
       "      <th>trans_date</th>\n",
       "      <th>amount</th>\n",
       "      <th>small_group</th>\n",
       "    </tr>\n",
       "  </thead>\n",
       "  <tbody>\n",
       "    <tr>\n",
       "      <td>0</td>\n",
       "      <td>43976</td>\n",
       "      <td>0</td>\n",
       "      <td>4.563</td>\n",
       "      <td>2</td>\n",
       "    </tr>\n",
       "    <tr>\n",
       "      <td>1</td>\n",
       "      <td>8417</td>\n",
       "      <td>0</td>\n",
       "      <td>48.342</td>\n",
       "      <td>0</td>\n",
       "    </tr>\n",
       "    <tr>\n",
       "      <td>2</td>\n",
       "      <td>17309</td>\n",
       "      <td>0</td>\n",
       "      <td>12.320</td>\n",
       "      <td>0</td>\n",
       "    </tr>\n",
       "    <tr>\n",
       "      <td>3</td>\n",
       "      <td>33523</td>\n",
       "      <td>0</td>\n",
       "      <td>29.005</td>\n",
       "      <td>6</td>\n",
       "    </tr>\n",
       "    <tr>\n",
       "      <td>4</td>\n",
       "      <td>24228</td>\n",
       "      <td>0</td>\n",
       "      <td>10.266</td>\n",
       "      <td>6</td>\n",
       "    </tr>\n",
       "  </tbody>\n",
       "</table>\n",
       "</div>"
      ],
      "text/plain": [
       "   client_dk  trans_date  amount  small_group\n",
       "0      43976           0   4.563            2\n",
       "1       8417           0  48.342            0\n",
       "2      17309           0  12.320            0\n",
       "3      33523           0  29.005            6\n",
       "4      24228           0  10.266            6"
      ]
     },
     "execution_count": 5,
     "metadata": {},
     "output_type": "execute_result"
    }
   ],
   "source": [
    "transactions_train.head(5)"
   ]
  },
  {
   "cell_type": "markdown",
   "metadata": {
    "colab_type": "text",
    "id": "WQhQGkULPoaQ"
   },
   "source": [
    "* client_dk - уникальный идентификатор клиента\n",
    "* trans_date - дата совершения транзакции\n",
    "* amount - сумма транзакции\n",
    "* small_group - категория покупки"
   ]
  },
  {
   "cell_type": "code",
   "execution_count": 6,
   "metadata": {
    "colab": {},
    "colab_type": "code",
    "id": "AQJWGwWCPoaR"
   },
   "outputs": [
    {
     "data": {
      "text/html": [
       "<div>\n",
       "<style scoped>\n",
       "    .dataframe tbody tr th:only-of-type {\n",
       "        vertical-align: middle;\n",
       "    }\n",
       "\n",
       "    .dataframe tbody tr th {\n",
       "        vertical-align: top;\n",
       "    }\n",
       "\n",
       "    .dataframe thead th {\n",
       "        text-align: right;\n",
       "    }\n",
       "</style>\n",
       "<table border=\"1\" class=\"dataframe\">\n",
       "  <thead>\n",
       "    <tr style=\"text-align: right;\">\n",
       "      <th></th>\n",
       "      <th>client_dk</th>\n",
       "      <th>27</th>\n",
       "      <th>32</th>\n",
       "      <th>41</th>\n",
       "      <th>45</th>\n",
       "      <th>67</th>\n",
       "      <th>73</th>\n",
       "      <th>81</th>\n",
       "      <th>88</th>\n",
       "    </tr>\n",
       "  </thead>\n",
       "  <tbody>\n",
       "    <tr>\n",
       "      <td>0</td>\n",
       "      <td>39762</td>\n",
       "      <td>1</td>\n",
       "      <td>0</td>\n",
       "      <td>0</td>\n",
       "      <td>0</td>\n",
       "      <td>0</td>\n",
       "      <td>0</td>\n",
       "      <td>0</td>\n",
       "      <td>0</td>\n",
       "    </tr>\n",
       "    <tr>\n",
       "      <td>1</td>\n",
       "      <td>10586</td>\n",
       "      <td>0</td>\n",
       "      <td>0</td>\n",
       "      <td>0</td>\n",
       "      <td>1</td>\n",
       "      <td>0</td>\n",
       "      <td>0</td>\n",
       "      <td>0</td>\n",
       "      <td>0</td>\n",
       "    </tr>\n",
       "    <tr>\n",
       "      <td>2</td>\n",
       "      <td>40115</td>\n",
       "      <td>0</td>\n",
       "      <td>1</td>\n",
       "      <td>0</td>\n",
       "      <td>0</td>\n",
       "      <td>0</td>\n",
       "      <td>0</td>\n",
       "      <td>0</td>\n",
       "      <td>0</td>\n",
       "    </tr>\n",
       "    <tr>\n",
       "      <td>3</td>\n",
       "      <td>34543</td>\n",
       "      <td>0</td>\n",
       "      <td>0</td>\n",
       "      <td>0</td>\n",
       "      <td>1</td>\n",
       "      <td>0</td>\n",
       "      <td>0</td>\n",
       "      <td>0</td>\n",
       "      <td>0</td>\n",
       "    </tr>\n",
       "    <tr>\n",
       "      <td>4</td>\n",
       "      <td>5372</td>\n",
       "      <td>0</td>\n",
       "      <td>0</td>\n",
       "      <td>0</td>\n",
       "      <td>1</td>\n",
       "      <td>0</td>\n",
       "      <td>0</td>\n",
       "      <td>0</td>\n",
       "      <td>0</td>\n",
       "    </tr>\n",
       "  </tbody>\n",
       "</table>\n",
       "</div>"
      ],
      "text/plain": [
       "   client_dk  27  32  41  45  67  73  81  88\n",
       "0      39762   1   0   0   0   0   0   0   0\n",
       "1      10586   0   0   0   1   0   0   0   0\n",
       "2      40115   0   1   0   0   0   0   0   0\n",
       "3      34543   0   0   0   1   0   0   0   0\n",
       "4       5372   0   0   0   1   0   0   0   0"
      ]
     },
     "execution_count": 6,
     "metadata": {},
     "output_type": "execute_result"
    }
   ],
   "source": [
    "train_target.head(5)"
   ]
  },
  {
   "cell_type": "code",
   "execution_count": 7,
   "metadata": {},
   "outputs": [],
   "source": [
    "zero_day = dt.datetime(2009, 1, 19, 0, 0)\n",
    "def get_month(nday):\n",
    "  new_date = zero_day + dt.timedelta(days=nday)\n",
    "  return new_date.month\n",
    "  \n",
    "def get_weekday(nday):\n",
    "  new_date = zero_day + dt.timedelta(days=nday)\n",
    "  return new_date.weekday()\n",
    "\n",
    "def get_features(base, ids, kind):\n",
    "    cost_features = base.groupby('client_dk')['amount'].agg(['sum','mean','std','min','max'])\n",
    "    count = transactions_train.groupby('client_dk')['trans_date'].count()\n",
    "\n",
    "    cost_appearance_features = base.groupby('client_dk')['amount'].agg([lambda x: x[x < 10].count(),\n",
    "                                                                            lambda x: x[x < 50].count(),\n",
    "                                                                            lambda x: x[x < 75].count(),\n",
    "                                                                            lambda x: x[x < 100].count(),\n",
    "                                                                            lambda x: x[x < 500].count(),\n",
    "                                                                            lambda x: x[x > 500].count(),\n",
    "                                                                            lambda x: x[x < 1000].count(),\n",
    "                                                                            lambda x: x[x > 5000].count(),\n",
    "                                                                            lambda x: x[x > 10000].count()])\n",
    "    cost_appearance_features.columns = ['trans_less10', 'trans_less50', 'trans_less75', 'trans_less100', 'trans_less500', 'trans_greater500', 'trans_less1000', 'trans_greater5000', 'trans_greater10000']\n",
    "    for i in cost_appearance_features.columns:\n",
    "      cost_appearance_features['weighted_'+i] = cost_appearance_features[i] / count\n",
    "    \n",
    "    base[\"trans_month\"] = base[\"trans_date\"].apply([lambda x: get_month(x)])\n",
    "    base[\"trans_weekday\"] = base[\"trans_date\"].apply([lambda x: get_weekday(x)])\n",
    "    base[\"trans_week\"] = base[\"trans_date\"].apply(lambda x: (x // 7) % 52)\n",
    "\n",
    "    counter_mean = base.groupby(['client_dk','trans_date'])['amount'].count()\n",
    "    counter_mean = pd.DataFrame(counter_mean).groupby('client_dk').mean()\n",
    "    counter_mean.columns = ['mean_count_per_day']\n",
    "    \n",
    "    counter_date = base.groupby(['client_dk',\"trans_weekday\"])['amount'].count()\n",
    "    counter_date = counter_date.reset_index().pivot(index='client_dk', \\\n",
    "                                                      columns=\"trans_weekday\",values='amount')\n",
    "    counter_date = counter_date.fillna(0)\n",
    "    counter_date.columns = ['weekday_count_' + str(i) for i in range(7)] \n",
    "    # количество транзакций по дням\n",
    "    \n",
    "    amount_day = base.groupby(['client_dk',\"trans_weekday\"]).sum()['amount']\n",
    "    amount_day = amount_day.reset_index().pivot(index='client_dk', \\\n",
    "                                                      columns=\"trans_weekday\",values='amount')\n",
    "    amount_day = amount_day.fillna(0)\n",
    "    amount_day.columns = ['weekday_spend_' + str(i) for i in range(7)]\n",
    "\n",
    "    amount_day['weekend_spend'] = amount_day['weekday_spend_5'] + amount_day['weekday_spend_6']\n",
    "    amount_day['workday_spend'] = cost_features['sum'] - amount_day['weekend_spend']\n",
    "\n",
    "    # сумма транзакций по дням\n",
    "    \n",
    "    counter_month = base.groupby(['client_dk','trans_month'])['amount'].count()\n",
    "    counter_month = counter_month.reset_index().pivot(index='client_dk', \\\n",
    "                                                      columns='trans_month',values='amount')\n",
    "    counter_month = counter_month.fillna(0)\n",
    "    counter_month.columns = ['month_count_' + str(i) for i in range(12)]\n",
    "    # количество транзакций по месяцам\n",
    "    \n",
    "    amount_month = base.groupby(['client_dk','trans_month']).sum()['amount']\n",
    "    amount_month = amount_month.reset_index().pivot(index='client_dk', \\\n",
    "                                                      columns='trans_month',values='amount')\n",
    "    amount_month = amount_month.fillna(0)\n",
    "    amount_month.columns = ['month_spend_' + str(i) for i in range(12)]\n",
    "    # сумма транзакций по месяцам\n",
    "        \n",
    "    counter_week = base.groupby(['client_dk','trans_week'])['amount'].count()\n",
    "    counter_week = counter_week.reset_index().pivot(index='client_dk', \\\n",
    "                                                      columns='trans_week',values='amount')\n",
    "    counter_week = counter_week.fillna(0)\n",
    "    counter_week.columns = ['week_count_' + str(i) for i in range(52)]\n",
    "    # количество транзакций по неделям\n",
    "    \n",
    "    amount_week = base.groupby(['client_dk','trans_week']).sum()['amount']\n",
    "    amount_week = amount_week.reset_index().pivot(index='client_dk', \\\n",
    "                                                      columns='trans_week',values='amount')\n",
    "    amount_week = amount_week.fillna(0)\n",
    "    amount_week.columns = ['week_spend_' + str(i) for i in range(52)]\n",
    "    # сумма транзакций по неделям\n",
    "    \n",
    "    counter_cat = base.groupby(['client_dk','small_group'])['amount'].count()\n",
    "    counter_cat = counter_cat.reset_index().pivot(index='client_dk', \\\n",
    "                                                      columns='small_group',values='amount')\n",
    "    counter_cat = counter_cat.fillna(0)\n",
    "    counter_cat.columns = ['cat_count_' + str(i) for i in counter_cat.columns]\n",
    "    # количество транзакций по категориям\n",
    "    \n",
    "    \n",
    "    amount_cat = base.groupby(['client_dk','small_group']).sum()['amount']\n",
    "    amount_cat = amount_cat.reset_index().pivot(index='client_dk', \\\n",
    "                                                      columns='small_group',values='amount')\n",
    "    amount_cat = amount_cat.fillna(0)\n",
    "    amount_cat.columns = ['cat_spend_' + str(i) for i in amount_cat.columns]\n",
    "    # сумма транзакций по категориям\n",
    "    \n",
    "    output = pd.merge(ids, cost_features.reset_index(), on='client_dk')\n",
    "    output = pd.merge(output, cost_appearance_features.reset_index(), on='client_dk')\n",
    "    output = pd.merge(output, counter_mean.reset_index(), on='client_dk')\n",
    "    output = pd.merge(output, counter_cat.reset_index(), on='client_dk')\n",
    "    output = pd.merge(output, amount_day.reset_index(), on='client_dk')\n",
    "    output = pd.merge(output, amount_cat.reset_index(), on='client_dk')\n",
    "    output = pd.merge(output, counter_date.reset_index(), on='client_dk')\n",
    "    output = pd.merge(output, counter_month.reset_index(), on='client_dk')\n",
    "    output = pd.merge(output, amount_month.reset_index(), on='client_dk')\n",
    "    output = pd.merge(output, counter_week.reset_index(), on='client_dk')\n",
    "    output = pd.merge(output, amount_week.reset_index(), on='client_dk')  \n",
    "\n",
    "    counter_date['weekend_count'] = counter_date['weekday_count_5'] + counter_date['weekday_count_6']\n",
    "    counter_date['workday_count'] = count - counter_date['weekend_count']\n",
    "\n",
    "    for i in counter_cat.columns:\n",
    "        output[\"weighted_\" + i] = counter_cat[i] / count\n",
    "    for i in counter_week.columns:\n",
    "        output[\"weighted_\" + i] = counter_week[i] / count\n",
    "    for i in counter_month.columns:\n",
    "        output[\"weighted_\" + i] = counter_month[i] / count\n",
    "    for i in counter_date.columns:\n",
    "        output[\"weighted_\" + i] = counter_date[i] / count\n",
    "\n",
    "    for i in amount_cat.columns:\n",
    "        output[\"weighted_\" + i] = amount_cat[i] / output[\"sum\"] \n",
    "    for i in amount_day.columns:\n",
    "        output[\"weighted_\" + i] = amount_day[i] / output[\"sum\"] \n",
    "    for i in amount_month.columns:\n",
    "        output[\"weighted_\" + i] = amount_month[i] / output[\"sum\"] \n",
    "    for i in amount_week.columns:\n",
    "        output[\"weighted_\" + i] = amount_week[i] / output[\"sum\"] \n",
    "    output = output.drop(\"client_dk\", 1)\n",
    "    output = output.fillna(0)\n",
    "    return output"
   ]
  },
  {
   "cell_type": "markdown",
   "metadata": {
    "colab_type": "text",
    "id": "CqhSyom1PoaV"
   },
   "source": [
    "* client_dk - уникальный идентификатор клиента, соответствует полю client_dk из транзакций\n",
    "* числовые названия колонок - это 8 категорий продуктов. Их названия (числа) соответствуют значениям в колонке **small_group** из данных по транзакциям. Значения в этих колонках бинарные,т.е. 0 - в исследуемую неделю не было совершено покупки в данной категории, 1 - покупка была совершена. Например, клиент с номером 34110 (первая строчка) купил товар из категории 45, а по остальным категориям покупок не совершал."
   ]
  },
  {
   "cell_type": "markdown",
   "metadata": {
    "colab_type": "text",
    "id": "gyz9pXODPoaW"
   },
   "source": [
    "Далее представлен простой вариант решения задачи. Вы можете решать соревнование используя совершенно другой подход."
   ]
  },
  {
   "cell_type": "markdown",
   "metadata": {
    "colab_type": "text",
    "id": "di7sZ8PfPoaX"
   },
   "source": [
    "Посчитаем по каждому клиенту самые простые аггрегационные признаки."
   ]
  },
  {
   "cell_type": "markdown",
   "metadata": {
    "colab_type": "text",
    "id": "49GiyXeCPoad"
   },
   "source": [
    "Посчитаем для каждого клиента количество транзакций по каждой категории."
   ]
  },
  {
   "cell_type": "markdown",
   "metadata": {
    "colab_type": "text",
    "id": "uEPV4VqjPoas"
   },
   "source": [
    "Теперь подгрузим тестовые данные для того, чтобы сделать предсказание. Проделаем с ними те же самые манипуляции, как и с обучающими данными."
   ]
  },
  {
   "cell_type": "code",
   "execution_count": 8,
   "metadata": {
    "colab": {},
    "colab_type": "code",
    "id": "fr3omWn6Poat"
   },
   "outputs": [],
   "source": [
    "transactions_test=pd.read_csv('transactions_test.csv')\n",
    "test_id=pd.read_csv('test.csv')"
   ]
  },
  {
   "cell_type": "markdown",
   "metadata": {
    "colab_type": "text",
    "id": "WmRtfhu5Poau"
   },
   "source": [
    "Также загрузим id тестовых клиентов, по которым нужно сделать предсказание."
   ]
  },
  {
   "cell_type": "code",
   "execution_count": 9,
   "metadata": {
    "colab": {},
    "colab_type": "code",
    "id": "Hgf3UJZRPoau"
   },
   "outputs": [],
   "source": [
    "train = get_features(transactions_train, train_target, 'train')\n",
    "test = get_features(transactions_test, test_id, 'test')"
   ]
  },
  {
   "cell_type": "code",
   "execution_count": 10,
   "metadata": {
    "colab": {},
    "colab_type": "code",
    "id": "tPJk4TmbPoa6"
   },
   "outputs": [],
   "source": [
    "common_features=list(set(train.columns).intersection(set(test.columns)))"
   ]
  },
  {
   "cell_type": "code",
   "execution_count": 11,
   "metadata": {
    "colab": {},
    "colab_type": "code",
    "id": "9XojgfYmPoa7"
   },
   "outputs": [],
   "source": [
    "X_train=train[common_features]\n",
    "X_test=test[common_features]"
   ]
  },
  {
   "cell_type": "code",
   "execution_count": 14,
   "metadata": {},
   "outputs": [],
   "source": [
    "params = {\n",
    "    'n_estimators': 1000,\n",
    "    'depth': 6,\n",
    "    'learning_rate' : 0.027,\n",
    "    'eval_metric': 'AUC',\n",
    "    'loss_function': 'MultiClass',\n",
    "    'verbose':1000\n",
    "}"
   ]
  },
  {
   "cell_type": "markdown",
   "metadata": {
    "colab_type": "text",
    "id": "L6hPvLx9Poa8"
   },
   "source": [
    "В этом бэйзлайне мы будем использовать простой подход - предсказывать покупки в каждой категории независимо. То есть в цикле модель обучается на отдельную категорию как на зависимую переменную, и пытается предсказать наличие покупки в этой определенной категории для теста. В итоге у нас получается 8 задач бинарной классификации.\n",
    "\n",
    "**Важно**: Такой подход не претендует на звание лучшего, вы вольны придумать свой алгоритм решения, который, вполне вероятно, окажется лучше."
   ]
  },
  {
   "cell_type": "code",
   "execution_count": 15,
   "metadata": {
    "colab": {},
    "colab_type": "code",
    "id": "ydHIGxOFPoa9",
    "scrolled": true
   },
   "outputs": [
    {
     "name": "stdout",
     "output_type": "stream",
     "text": [
      "train product 27\n",
      "0:\ttotal: 251ms\tremaining: 4m 11s\n",
      "999:\ttotal: 3m 56s\tremaining: 0us\n",
      "train product 32\n",
      "0:\ttotal: 270ms\tremaining: 4m 29s\n",
      "999:\ttotal: 4m\tremaining: 0us\n",
      "train product 41\n",
      "0:\ttotal: 264ms\tremaining: 4m 23s\n",
      "999:\ttotal: 4m 3s\tremaining: 0us\n",
      "train product 45\n",
      "0:\ttotal: 275ms\tremaining: 4m 34s\n",
      "999:\ttotal: 4m\tremaining: 0us\n",
      "train product 67\n",
      "0:\ttotal: 266ms\tremaining: 4m 25s\n",
      "999:\ttotal: 3m 51s\tremaining: 0us\n",
      "train product 73\n",
      "0:\ttotal: 289ms\tremaining: 4m 49s\n",
      "999:\ttotal: 3m 50s\tremaining: 0us\n",
      "train product 81\n",
      "0:\ttotal: 255ms\tremaining: 4m 14s\n",
      "999:\ttotal: 3m 52s\tremaining: 0us\n",
      "train product 88\n",
      "0:\ttotal: 260ms\tremaining: 4m 20s\n",
      "999:\ttotal: 3m 58s\tremaining: 0us\n"
     ]
    }
   ],
   "source": [
    "#В словарь будем записывать предсказания модели\n",
    "results_tree = {}\n",
    "#Цикл со второго элемента, потому что первой колонкой идет идентификатор клиента \n",
    "for q in train_target.columns[1:]:\n",
    "    print('train product '+str(q))\n",
    "    curr_target_train = train_target.loc[:,q]\n",
    "    model = CatBoostClassifier(random_state=42, **params)\n",
    "    model.fit(X_train.fillna(0).values,curr_target_train.values)\n",
    "    #Сделаем предсказание\n",
    "    pred = model.predict_proba(X_test.fillna(0).values)[:,1]\n",
    "    results_tree[q] = pred"
   ]
  },
  {
   "cell_type": "markdown",
   "metadata": {
    "colab_type": "text",
    "id": "C1oAvd1kPoa-"
   },
   "source": [
    "Такое решение дает на публичном лидерборде качество 0.6023"
   ]
  },
  {
   "cell_type": "markdown",
   "metadata": {
    "colab_type": "text",
    "id": "khm5b0kAPoa-"
   },
   "source": [
    "### Подготовим файл для отправки в систему"
   ]
  },
  {
   "cell_type": "code",
   "execution_count": 16,
   "metadata": {
    "colab": {},
    "colab_type": "code",
    "id": "Hun-NrfzPoa-"
   },
   "outputs": [],
   "source": [
    "submission = pd.DataFrame(data=np.zeros((25000,8)),columns=train_target.columns[1:],index=test_id['client_dk'].values)"
   ]
  },
  {
   "cell_type": "code",
   "execution_count": 17,
   "metadata": {
    "colab": {},
    "colab_type": "code",
    "id": "W4bVC2NOPoa_"
   },
   "outputs": [],
   "source": [
    "for q in results_tree:\n",
    "    submission[q] = results_tree[q]\n",
    "submission.columns = ['cat_27','cat_32','cat_41','cat_45','cat_67','cat_73','cat_81','cat_88']"
   ]
  },
  {
   "cell_type": "code",
   "execution_count": 18,
   "metadata": {
    "colab": {},
    "colab_type": "code",
    "id": "GWS7f9xXPobB"
   },
   "outputs": [],
   "source": [
    "submission.index.name = 'client_dk'"
   ]
  },
  {
   "cell_type": "markdown",
   "metadata": {
    "colab_type": "text",
    "id": "oEwii6RGPobC"
   },
   "source": [
    "Сохраняем прогноз на диск в папку submissions. Имя прогноза соответсвует дате и времени его создания, закодированными с помощью timestamp."
   ]
  },
  {
   "cell_type": "code",
   "execution_count": 19,
   "metadata": {
    "colab": {},
    "colab_type": "code",
    "id": "vTBoZUHBPobC"
   },
   "outputs": [
    {
     "name": "stdout",
     "output_type": "stream",
     "text": [
      "submissions/1583401743.csv\n"
     ]
    }
   ],
   "source": [
    "import time\n",
    "import os\n",
    "\n",
    "current_timestamp = int(time.time())\n",
    "submission_path = 'submissions/{}.csv'.format(current_timestamp)\n",
    "\n",
    "if not os.path.exists('submissions'):\n",
    "    os.makedirs('submissions')\n",
    "\n",
    "print(submission_path)\n",
    "submission.to_csv(submission_path, index=True)"
   ]
  },
  {
   "cell_type": "markdown",
   "metadata": {
    "colab_type": "text",
    "id": "9wdMNIdKPobD"
   },
   "source": [
    "Теперь все готово! Можно отправлять решение."
   ]
  }
 ],
 "metadata": {
  "colab": {
   "collapsed_sections": [],
   "name": "baseline_final.ipynb",
   "provenance": []
  },
  "kernelspec": {
   "display_name": "Python 3",
   "language": "python",
   "name": "python3"
  },
  "language_info": {
   "codemirror_mode": {
    "name": "ipython",
    "version": 3
   },
   "file_extension": ".py",
   "mimetype": "text/x-python",
   "name": "python",
   "nbconvert_exporter": "python",
   "pygments_lexer": "ipython3",
   "version": "3.7.4"
  }
 },
 "nbformat": 4,
 "nbformat_minor": 1
}
